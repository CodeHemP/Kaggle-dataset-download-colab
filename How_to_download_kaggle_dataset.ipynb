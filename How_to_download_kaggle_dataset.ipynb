{
  "nbformat": 4,
  "nbformat_minor": 0,
  "metadata": {
    "colab": {
      "name": "How to download kaggle dataset.ipynb",
      "provenance": [],
      "toc_visible": true,
      "authorship_tag": "ABX9TyPmd89paSB2YZy638Lo3hbH",
      "include_colab_link": true
    },
    "kernelspec": {
      "name": "python3",
      "display_name": "Python 3"
    },
    "accelerator": "GPU"
  },
  "cells": [
    {
      "cell_type": "markdown",
      "metadata": {
        "id": "view-in-github",
        "colab_type": "text"
      },
      "source": [
        "<a href=\"https://colab.research.google.com/github/ashishpatel26/Kaggle-dataset-download-colab/blob/main/How_to_download_kaggle_dataset.ipynb\" target=\"_parent\"><img src=\"https://colab.research.google.com/assets/colab-badge.svg\" alt=\"Open In Colab\"/></a>"
      ]
    },
    {
      "cell_type": "markdown",
      "metadata": {
        "id": "RMB2KTQFQtsa"
      },
      "source": [
        " # How to download Kaggle dataset in colab.\n"
      ]
    },
    {
      "cell_type": "code",
      "metadata": {
        "id": "mCuWTD7rQhTx",
        "outputId": "a79d4492-5e34-4808-af09-1593426332d7",
        "colab": {
          "base_uri": "https://localhost:8080/",
          "height": 228
        }
      },
      "source": [
        "!pip install kaggle"
      ],
      "execution_count": 1,
      "outputs": [
        {
          "output_type": "stream",
          "text": [
            "Requirement already satisfied: kaggle in /usr/local/lib/python3.6/dist-packages (1.5.8)\n",
            "Requirement already satisfied: python-dateutil in /usr/local/lib/python3.6/dist-packages (from kaggle) (2.8.1)\n",
            "Requirement already satisfied: tqdm in /usr/local/lib/python3.6/dist-packages (from kaggle) (4.41.1)\n",
            "Requirement already satisfied: six>=1.10 in /usr/local/lib/python3.6/dist-packages (from kaggle) (1.15.0)\n",
            "Requirement already satisfied: requests in /usr/local/lib/python3.6/dist-packages (from kaggle) (2.23.0)\n",
            "Requirement already satisfied: urllib3<1.25,>=1.21.1 in /usr/local/lib/python3.6/dist-packages (from kaggle) (1.24.3)\n",
            "Requirement already satisfied: certifi in /usr/local/lib/python3.6/dist-packages (from kaggle) (2020.6.20)\n",
            "Requirement already satisfied: python-slugify in /usr/local/lib/python3.6/dist-packages (from kaggle) (4.0.1)\n",
            "Requirement already satisfied: slugify in /usr/local/lib/python3.6/dist-packages (from kaggle) (0.0.1)\n",
            "Requirement already satisfied: chardet<4,>=3.0.2 in /usr/local/lib/python3.6/dist-packages (from requests->kaggle) (3.0.4)\n",
            "Requirement already satisfied: idna<3,>=2.5 in /usr/local/lib/python3.6/dist-packages (from requests->kaggle) (2.10)\n",
            "Requirement already satisfied: text-unidecode>=1.3 in /usr/local/lib/python3.6/dist-packages (from python-slugify->kaggle) (1.3)\n"
          ],
          "name": "stdout"
        }
      ]
    },
    {
      "cell_type": "markdown",
      "metadata": {
        "id": "CU3LwLSkReEI"
      },
      "source": [
        "![](https://miro.medium.com/max/875/1*f94G6dXm-8cRxX5FFTCqyg.png)\n",
        "\n",
        "![](https://miro.medium.com/max/875/1*rhsGKThdgxwUoskaACSlwA.png)"
      ]
    },
    {
      "cell_type": "code",
      "metadata": {
        "id": "bXiM2xZURBB3"
      },
      "source": [
        "!mkdir ~/.kaggle"
      ],
      "execution_count": 4,
      "outputs": []
    },
    {
      "cell_type": "code",
      "metadata": {
        "id": "DoBpOOy3SKS1"
      },
      "source": [
        "# upload kaggle.json file in colab directly\n",
        "!cp kaggle.json ~/.kaggle/"
      ],
      "execution_count": 6,
      "outputs": []
    },
    {
      "cell_type": "code",
      "metadata": {
        "id": "5BiE-HL1S2_u"
      },
      "source": [
        "!chmod 600 ~/.kaggle/kaggle.json"
      ],
      "execution_count": 7,
      "outputs": []
    },
    {
      "cell_type": "code",
      "metadata": {
        "id": "NxP93LbNS81o",
        "outputId": "c3569c99-4efa-429c-dac2-3b885cf18cb3",
        "colab": {
          "base_uri": "https://localhost:8080/",
          "height": 442
        }
      },
      "source": [
        "!kaggle datasets list"
      ],
      "execution_count": 8,
      "outputs": [
        {
          "output_type": "stream",
          "text": [
            "Warning: Looks like you're using an outdated API Version, please consider updating (server 1.5.6 / client 1.5.4)\n",
            "ref                                                               title                                                 size  lastUpdated          downloadCount  \n",
            "----------------------------------------------------------------  --------------------------------------------------  ------  -------------------  -------------  \n",
            "christianlillelund/donald-trumps-rallies                          Donald Trump's Rallies                               720KB  2020-09-26 10:25:08            672  \n",
            "heeraldedhia/groceries-dataset                                    Groceries dataset                                    257KB  2020-09-17 04:36:08           3216  \n",
            "andrewmvd/trip-advisor-hotel-reviews                              Trip Advisor Hotel Reviews                             5MB  2020-09-30 08:31:20           1842  \n",
            "balraj98/stanford-background-dataset                              Stanford Background Dataset                           17MB  2020-09-26 12:57:59            192  \n",
            "nehaprabhavalkar/indian-food-101                                  Indian Food 101                                        7KB  2020-09-30 06:23:43           2590  \n",
            "jilkothari/finance-accounting-courses-udemy-13k-course            Finance & Accounting Courses - Udemy (13K+ course)  1000KB  2020-09-17 12:46:12            890  \n",
            "balraj98/massachusetts-roads-dataset                              Massachusetts Roads Dataset                            6GB  2020-09-26 03:57:49            159  \n",
            "arslanali4343/top-personality-dataset                             Top Personality Dataset                                9MB  2020-09-27 21:25:45            985  \n",
            "oldaandozerskaya/fiction-corpus-for-agebased-text-classification  RusAge: Corpus for Age-Based Text Classification     509MB  2020-09-28 09:30:12             63  \n",
            "gpreda/chinese-mnist                                              Chinese MNIST                                         10MB  2020-08-05 12:36:00            326  \n",
            "gpreda/local-elections-romania-2020                               Local Elections Romania 2020                          28MB  2020-09-27 20:46:11            161  \n",
            "anth7310/mental-health-in-the-tech-industry                       Mental Health in the Tech Industry                     2MB  2020-09-27 11:17:23           1422  \n",
            "roshansharma/sanfranciso-crime-dataset                            Sanfranciso Crime Dataset                              6MB  2019-05-29 12:45:44           4187  \n",
            "bppuneethpai/tldr-summary-for-man-pages                           TLDR summary for man pages                             8MB  2020-09-25 09:50:10             34  \n",
            "sterby/german-recipes-dataset                                     German Recipes Dataset                                 5MB  2019-03-06 16:25:22            900  \n",
            "arslanali4343/real-estate-dataset                                 Real Estate DataSet                                   12KB  2020-09-28 21:25:33           1132  \n",
            "thomaskonstantin/top-270-rated-computer-science-programing-books  Top 270 Computer Science / Programing Books           45KB  2020-09-28 16:47:12            536  \n",
            "leangab/poe-short-stories-corpuscsv                               E.A. Poe's corpus of short stories                   725KB  2020-09-28 11:43:08            118  \n",
            "anmolkumar/health-insurance-cross-sell-prediction                 Health Insurance Cross Sell Prediction 🏠 🏥             6MB  2020-09-11 18:39:31           4489  \n",
            "ramjidoolla/ipl-data-set                                          IPL _Data_Set                                          1MB  2020-09-14 10:57:42           4437  \n"
          ],
          "name": "stdout"
        }
      ]
    },
    {
      "cell_type": "code",
      "metadata": {
        "id": "C58JGW9hTAXK",
        "outputId": "58ac1458-0d51-4f4e-f502-8d2b0c28147d",
        "colab": {
          "base_uri": "https://localhost:8080/",
          "height": 422
        }
      },
      "source": [
        "!kaggle competitions list"
      ],
      "execution_count": 9,
      "outputs": [
        {
          "output_type": "stream",
          "text": [
            "Warning: Looks like you're using an outdated API Version, please consider updating (server 1.5.6 / client 1.5.4)\n",
            "ref                                            deadline             category            reward  teamCount  userHasEntered  \n",
            "---------------------------------------------  -------------------  ---------------  ---------  ---------  --------------  \n",
            "contradictory-my-dear-watson                   2030-07-01 23:59:00  Getting Started     Prizes        224           False  \n",
            "gan-getting-started                            2030-07-01 23:59:00  Getting Started     Prizes        160           False  \n",
            "tpu-getting-started                            2030-06-03 23:59:00  Getting Started  Knowledge        359           False  \n",
            "digit-recognizer                               2030-01-01 00:00:00  Getting Started  Knowledge       2427            True  \n",
            "titanic                                        2030-01-01 00:00:00  Getting Started  Knowledge      17889            True  \n",
            "house-prices-advanced-regression-techniques    2030-01-01 00:00:00  Getting Started  Knowledge       4650            True  \n",
            "connectx                                       2030-01-01 00:00:00  Getting Started  Knowledge        416            True  \n",
            "nlp-getting-started                            2030-01-01 00:00:00  Getting Started  Knowledge       1195           False  \n",
            "riiid-test-answer-prediction                   2021-01-07 23:59:00  Featured          $100,000        674           False  \n",
            "competitive-data-science-predict-future-sales  2020-12-31 23:59:00  Playground           Kudos       9106            True  \n",
            "halite-iv-playground-edition                   2020-12-31 23:59:00  Playground       Knowledge         31           False  \n",
            "predict-volcanic-eruptions-ingv-oe             2020-12-28 23:59:00  Playground            Swag         38           False  \n",
            "hashcode-drone-delivery                        2020-12-14 23:59:00  Playground       Knowledge         62           False  \n",
            "cdp-unlocking-climate-solutions                2020-12-02 23:59:00  Analytics          $91,000          0           False  \n",
            "lish-moa                                       2020-11-30 23:59:00  Research           $30,000       2520           False  \n",
            "google-football                                2020-11-30 23:59:00  Featured            $6,000        662           False  \n",
            "conways-reverse-game-of-life-2020              2020-11-30 23:59:00  Playground            Swag        105           False  \n",
            "lyft-motion-prediction-autonomous-vehicles     2020-11-25 23:59:00  Featured           $30,000        616           False  \n",
            "rsna-str-pulmonary-embolism-detection          2020-10-26 23:59:00  Featured           $30,000        581            True  \n",
            "osic-pulmonary-fibrosis-progression            2020-10-06 23:59:00  Featured           $55,000       2097            True  \n"
          ],
          "name": "stdout"
        }
      ]
    },
    {
      "cell_type": "code",
      "metadata": {
        "id": "XY-18dTPTPpk",
        "outputId": "10992efc-de89-4c03-c7bb-dce11a4ebba9",
        "colab": {
          "base_uri": "https://localhost:8080/",
          "height": 52
        }
      },
      "source": [
        "!kaggle competitions download -c 'lish-moa'"
      ],
      "execution_count": 14,
      "outputs": [
        {
          "output_type": "stream",
          "text": [
            "Warning: Looks like you're using an outdated API Version, please consider updating (server 1.5.6 / client 1.5.4)\n",
            "403 - Forbidden\n"
          ],
          "name": "stdout"
        }
      ]
    },
    {
      "cell_type": "markdown",
      "metadata": {
        "id": "c_yu0KaYTjmk"
      },
      "source": [
        "# Create a directory named train,"
      ]
    },
    {
      "cell_type": "code",
      "metadata": {
        "id": "7ukUcPn7TY-Z"
      },
      "source": [
        "!mkdir train"
      ],
      "execution_count": 11,
      "outputs": []
    },
    {
      "cell_type": "markdown",
      "metadata": {
        "id": "XMHcqncwTpJg"
      },
      "source": [
        "\n",
        "# unzip train data there"
      ]
    },
    {
      "cell_type": "code",
      "metadata": {
        "id": "SB-4JJWKTl7W",
        "outputId": "08a80700-7745-44fb-e5aa-503bab45b72e",
        "colab": {
          "base_uri": "https://localhost:8080/",
          "height": 34
        }
      },
      "source": [
        "! unzip train.zip -d train"
      ],
      "execution_count": 12,
      "outputs": [
        {
          "output_type": "stream",
          "text": [
            "unzip:  cannot find or open train.zip, train.zip.zip or train.zip.ZIP.\n"
          ],
          "name": "stdout"
        }
      ]
    },
    {
      "cell_type": "markdown",
      "metadata": {
        "id": "B_hwxAhtT-IW"
      },
      "source": [
        "# For More help follow KaggleAPI Documentation\n",
        "https://github.com/Kaggle/kaggle-api"
      ]
    }
  ]
}