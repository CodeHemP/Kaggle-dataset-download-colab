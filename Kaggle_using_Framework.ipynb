{
  "nbformat": 4,
  "nbformat_minor": 0,
  "metadata": {
    "colab": {
      "name": "Kaggle_using_Framework.ipynb",
      "provenance": []
    },
    "kernelspec": {
      "name": "python3",
      "display_name": "Python 3"
    },
    "language_info": {
      "name": "python"
    }
  },
  "cells": [
    {
      "cell_type": "code",
      "source": [
        "!mkdir -p ~/.kaggle\n",
        "!touch ~/.kaggle/kaggle.json\n",
        "\n",
        "api_token = {\"username\":\"ashishpatel26\",\"key\":\"6b0a95aeefc76a09bae89d44886482d2\"}\n",
        "\n",
        "import json\n",
        "\n",
        "with open('/root/.kaggle/kaggle.json', 'w') as file:\n",
        "    json.dump(api_token, file)\n",
        "\n",
        "!chmod 600 ~/.kaggle/kaggle.json"
      ],
      "metadata": {
        "id": "1s2UBYMn1Mrs"
      },
      "execution_count": 8,
      "outputs": []
    },
    {
      "cell_type": "code",
      "execution_count": 9,
      "metadata": {
        "id": "EijASLiA06Sv"
      },
      "outputs": [],
      "source": [
        "from kaggle.api.kaggle_api_extended import KaggleApi\n",
        "api = KaggleApi()\n",
        "api.authenticate()"
      ]
    },
    {
      "cell_type": "code",
      "source": [
        "# Searching competitions\n",
        "# Signature: competitions_list(group=None, category=None, sort_by=None, page=1, search=None)\n",
        "competitions = api.competitions_list(search='cat',category=\"playground\")\n",
        " \n",
        "# competitions is a list of competition objects.\n",
        "# iterate though each item to access individual competition\n",
        "for comp in competitions:\n",
        "    print(comp.ref,comp.reward,comp.userRank,sep=',')"
      ],
      "metadata": {
        "colab": {
          "base_uri": "https://localhost:8080/"
        },
        "id": "H9ZusJFD2bzZ",
        "outputId": "8516e363-5b02-4654-f19c-5f83bc64d858"
      },
      "execution_count": 10,
      "outputs": [
        {
          "output_type": "stream",
          "name": "stdout",
          "text": [
            "cat-in-the-dat,Swag,None\n",
            "cat-in-the-dat-ii,Swag,None\n",
            "dogs-vs-cats-redux-kernels-edition,Knowledge,None\n",
            "dogs-vs-cats,Swag,None\n"
          ]
        }
      ]
    },
    {
      "cell_type": "code",
      "source": [
        "# List files for a competition\n",
        "# Signature: competitions_data_list_files(id, **kwargs)\n",
        "api.competitions_data_list_files('titanic')\n",
        " \n",
        "# Download all files for a competition\n",
        "# Signature: competition_download_files(competition, path=None, force=False, quiet=True)\n",
        "api.competition_download_files('titanic')\n",
        " \n",
        "# Download single file for a competition\n",
        "# Signature: competition_download_file(competition, file_name, path=None, force=False, quiet=False)\n",
        "api.competition_download_file('titanic','gender_submission.csv')"
      ],
      "metadata": {
        "colab": {
          "base_uri": "https://localhost:8080/"
        },
        "id": "imfQVQz22hjn",
        "outputId": "3e43a467-2fb5-4722-ced6-d5552a77fc34"
      },
      "execution_count": 11,
      "outputs": [
        {
          "output_type": "stream",
          "name": "stdout",
          "text": [
            "Downloading gender_submission.csv to /content\n"
          ]
        },
        {
          "output_type": "stream",
          "name": "stderr",
          "text": [
            "100%|██████████| 3.18k/3.18k [00:00<00:00, 1.19MB/s]"
          ]
        },
        {
          "output_type": "stream",
          "name": "stdout",
          "text": [
            "\n"
          ]
        },
        {
          "output_type": "stream",
          "name": "stderr",
          "text": [
            "\n"
          ]
        }
      ]
    },
    {
      "cell_type": "code",
      "source": [
        "# List files for a competition\n",
        "# Signature: competitions_data_list_files(id, **kwargs)\n",
        "api.competitions_data_list_files('titanic')\n",
        " \n",
        "# Download all files for a competition\n",
        "# Signature: competition_download_files(competition, path=None, force=False, quiet=True)\n",
        "api.competition_download_files('titanic')\n",
        " \n",
        "# Download single file for a competition\n",
        "# Signature: competition_download_file(competition, file_name, path=None, force=False, quiet=False)\n",
        "api.competition_download_file('titanic','gender_submission.csv')"
      ],
      "metadata": {
        "colab": {
          "base_uri": "https://localhost:8080/"
        },
        "id": "eHbxCwnt2m8C",
        "outputId": "ea00cb11-6972-4c8c-ca84-4807a1fc9619"
      },
      "execution_count": 12,
      "outputs": [
        {
          "output_type": "stream",
          "name": "stdout",
          "text": [
            "gender_submission.csv: Skipping, found more recently modified local copy (use --force to force download)\n"
          ]
        }
      ]
    },
    {
      "cell_type": "code",
      "source": [
        "# Signature: competition_view_leaderboard(id, **kwargs)\n",
        "leaderboard = api.competition_view_leaderboard('titanic')"
      ],
      "metadata": {
        "id": "03-KtobQ2skJ"
      },
      "execution_count": 13,
      "outputs": []
    },
    {
      "cell_type": "code",
      "source": [
        "# Signature: competition_view_leaderboard(id, **kwargs)\n",
        "leaderboard = api.competition_view_leaderboard('titanic')"
      ],
      "metadata": {
        "id": "aBMRUgnx2wJr"
      },
      "execution_count": 14,
      "outputs": []
    },
    {
      "cell_type": "code",
      "source": [
        "# Signature: dataset_list(sort_by=None, size=None, file_type=None, license_name=None, tag_ids=None, search=None, user=None, mine=False, page=1, max_size=None, min_size=None) \n",
        "datasets=api.dataset_list(search='demographics',license_name='cc', file_type='csv')\n",
        " \n",
        "# datasets is a collection of dataset\n",
        "for dat in  datasets:\n",
        "     print(dat.ref,dat.viewCount,dat.voteCount,sep=',')"
      ],
      "metadata": {
        "colab": {
          "base_uri": "https://localhost:8080/"
        },
        "id": "5lkmXP0f2zig",
        "outputId": "cc43c1aa-62ab-4a58-8818-0b836004ee67"
      },
      "execution_count": 15,
      "outputs": [
        {
          "output_type": "stream",
          "name": "stdout",
          "text": [
            "fmejia21/demographics-of-academy-awards-oscars-winners,30376,139\n",
            "ayushggarg/international-tourism-demographics,8190,28\n",
            "avenn98/world-of-warcraft-demographics,9649,21\n",
            "lachmann12/world-population-demographics-by-age-2019,5744,15\n",
            "arashnic/hr-analytics-job-change-of-data-scientists,262354,1135\n",
            "anlgrbz/student-demographics-online-education-dataoulad,9531,29\n",
            "hanzlanawaz/urban-rural-demographics,880,10\n",
            "electoralcommission/brexit-results,13146,28\n",
            "sergejnuss/chicago-community-areas-demographics,449,7\n",
            "yamqwe/student-performance,4455,33\n",
            "kwullum/fatal-police-shootings-in-the-us,90364,396\n",
            "robertyu02/cpd-police-beat-demographics,1355,3\n",
            "new-york-city/ny-school-demographics-and-accountability-snapshot,2719,2\n",
            "luckyt/university-of-waterloo-student-demographics,5923,18\n",
            "bmkramer/101-innovations-research-tools-survey,26196,36\n",
            "seanlahman/the-history-of-baseball,64368,257\n",
            "chrisiortiz/school-attendance-in-texas-covid-weather-ses,4896,20\n",
            "daliaresearch/basic-income-survey-european-dataset,17584,41\n",
            "benroshan/online-food-delivery-preferencesbangalore-region,17239,41\n",
            "samsonqian/college-admissions,13645,36\n"
          ]
        }
      ]
    },
    {
      "cell_type": "code",
      "source": [
        "#Signature: dataset_list_files(dataset)\n",
        "# dataset string should be in format [owner]/[dataset-name]\n",
        "api.dataset_list_files('avenn98/world-of-warcraft-demographics').files"
      ],
      "metadata": {
        "colab": {
          "base_uri": "https://localhost:8080/"
        },
        "id": "-8gpHP__24Dr",
        "outputId": "86c142d0-11b6-4da4-bc37-11b04ee1a3bf"
      },
      "execution_count": 16,
      "outputs": [
        {
          "output_type": "execute_result",
          "data": {
            "text/plain": [
              "[WoW Demographics.csv]"
            ]
          },
          "metadata": {},
          "execution_count": 16
        }
      ]
    },
    {
      "cell_type": "code",
      "source": [
        "# Download all files of a dataset\n",
        "# Signature: dataset_download_files(dataset, path=None, force=False, quiet=True, unzip=False)\n",
        "api.dataset_download_files('avenn98/world-of-warcraft-demographics')\n",
        " \n",
        "# download single file\n",
        "#Signature: dataset_download_file(dataset, file_name, path=None, force=False, quiet=True)\n",
        "api.dataset_download_file('avenn98/world-of-warcraft-demographics','WoW Demographics.csv')"
      ],
      "metadata": {
        "colab": {
          "base_uri": "https://localhost:8080/"
        },
        "id": "JA-ARcnh28kJ",
        "outputId": "50b24b9f-37bf-44ac-942f-e17d7933b179"
      },
      "execution_count": 17,
      "outputs": [
        {
          "output_type": "execute_result",
          "data": {
            "text/plain": [
              "True"
            ]
          },
          "metadata": {},
          "execution_count": 17
        }
      ]
    },
    {
      "cell_type": "code",
      "source": [
        "#Signature: kernels_list(page=1, page_size=20, dataset=None, competition=None, parent_kernel=None, search=None, mine=False, user=None, language=None, kernel_type=None, output_type=None, sort_by=None)\n",
        "kernels = api.kernels_list(search='titanic')\n",
        "for kernel in kernels:\n",
        "     print(kernel.ref,kernel.totalVotes,kernel.language,sep=',')"
      ],
      "metadata": {
        "colab": {
          "base_uri": "https://localhost:8080/"
        },
        "id": "mLB5jDe53Asf",
        "outputId": "147a37eb-28e8-4a6f-e4df-9a47d2a02625"
      },
      "execution_count": 18,
      "outputs": [
        {
          "output_type": "stream",
          "name": "stdout",
          "text": [
            "ashishpatel26/titanic-passenger-survival-analysis,16,None\n",
            "alexisbcook/titanic-tutorial,6534,None\n",
            "startupsci/titanic-data-science-solutions,8212,None\n",
            "omarelgabry/a-journey-through-titanic,1379,None\n",
            "mrisdal/exploring-survival-on-the-titanic,3626,None\n",
            "sinakhorami/titanic-best-working-classifier,1134,None\n",
            "nadintamer/titanic-survival-predictions-beginner,1036,None\n",
            "yassineghouzam/titanic-top-4-with-ensemble-modeling,2536,None\n",
            "kenjee/titanic-project-example,579,None\n",
            "gunesevitan/titanic-advanced-feature-engineering-tutorial,1442,None\n",
            "brendan45774/titanic-top-solution,395,None\n",
            "masumrumi/a-statistical-analysis-ml-workflow-of-titanic,1330,None\n",
            "kanncaa1/dataiteam-titanic-eda,257,None\n",
            "mnassrib/titanic-logistic-regression-with-python,437,None\n",
            "konstantinmasich/titanic-0-82-0-83,221,None\n",
            "fatmakursun/titanic-classification-models,244,None\n",
            "cdeotte/titanic-wcg-xgboost-0-84688,328,None\n",
            "zlatankr/titanic-random-forest-82-78,211,None\n",
            "swamysm/beginners-titanic,112,None\n",
            "dmilla/introduction-to-decision-trees-titanic-dataset,253,None\n"
          ]
        }
      ]
    },
    {
      "cell_type": "code",
      "source": [
        "# Retrieve output for a specified kernel\n",
        "# Signature: kernels_output(kernel, path, force=False, quiet=True)\n",
        "api.kernels_output('startupsci/titanic-data-science-solutions',path='.')"
      ],
      "metadata": {
        "colab": {
          "base_uri": "https://localhost:8080/"
        },
        "id": "TCe396d_3FGK",
        "outputId": "0805c79d-6907-431e-afaa-c312d714ad99"
      },
      "execution_count": 20,
      "outputs": [
        {
          "output_type": "execute_result",
          "data": {
            "text/plain": [
              "['./titanic-data-science-solutions.log']"
            ]
          },
          "metadata": {},
          "execution_count": 20
        }
      ]
    },
    {
      "cell_type": "code",
      "source": [
        "# Signature: kernels_status(kernel)\n",
        "api.kernels_status('startupsci/titanic-data-science-solutions')"
      ],
      "metadata": {
        "colab": {
          "base_uri": "https://localhost:8080/"
        },
        "id": "qj4oDgVp3T13",
        "outputId": "7428ce90-5961-415b-d9c8-88010bae08ec"
      },
      "execution_count": 22,
      "outputs": [
        {
          "output_type": "execute_result",
          "data": {
            "text/plain": [
              "{'failureMessage': '', 'status': 'complete'}"
            ]
          },
          "metadata": {},
          "execution_count": 22
        }
      ]
    },
    {
      "cell_type": "code",
      "source": [
        "# Signature: kernels_pull(kernel, path, metadata=False, quiet=True)\n",
        "api.kernels_pull('startupsci/titanic-data-science-solutions',path='.')"
      ],
      "metadata": {
        "colab": {
          "base_uri": "https://localhost:8080/",
          "height": 35
        },
        "id": "ZgJXA4PT3bQv",
        "outputId": "f0886e1b-0a7b-43eb-c3f2-7b0f6d20cd8a"
      },
      "execution_count": 23,
      "outputs": [
        {
          "output_type": "execute_result",
          "data": {
            "application/vnd.google.colaboratory.intrinsic+json": {
              "type": "string"
            },
            "text/plain": [
              "'./titanic-data-science-solutions.ipynb'"
            ]
          },
          "metadata": {},
          "execution_count": 23
        }
      ]
    }
  ]
}